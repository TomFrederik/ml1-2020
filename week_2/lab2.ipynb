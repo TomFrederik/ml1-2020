{
 "cells": [
  {
   "cell_type": "markdown",
   "metadata": {},
   "source": [
    "# **Save this file as studentid1_studentid2_lab#.ipynb**\n",
    "(Your student-id is the number shown on your student card.)\n",
    "\n",
    "E.g. Hence as an example for 2 students:\n",
    "12301230_3434343_lab2.ipynb.\n",
    "\n",
    "**This will be parsed by a regexp, so please double check your filename.**\n",
    "\n",
    "**Only one member of each group has to submit the file to canvas.**\n",
    "\n",
    "Before you turn this problem in, please make sure everything runs correctly. First, **restart the kernel** (in the menubar, select Kernel$\\rightarrow$Restart) and then **run all cells** (in the menubar, select Cell$\\rightarrow$Run All). Note, that **you are not allowed to use Google Colab**.\n",
    "\n",
    "**Make sure you fill in any place that says `YOUR CODE HERE` or \"YOUR ANSWER HERE\", as well as your names and email adresses below.**\n",
    "\n"
   ]
  },
  {
   "cell_type": "code",
   "execution_count": 1,
   "metadata": {},
   "outputs": [],
   "source": [
    "NAME = \"Tom Lieberum\"\n",
    "NAME2 = \"Erik Jenner\"\n",
    "EMAIL = \"tlieberum@outlook.de\"\n",
    "EMAIL2 = \"erik.jenner99@gmail.com\"\n"
   ]
  },
  {
   "cell_type": "markdown",
   "metadata": {
    "deletable": false,
    "editable": false,
    "nbgrader": {
     "checksum": "7122749ea8e0d9fe0b87cb4304ef6c7c",
     "grade": false,
     "grade_id": "cell-8d856208da5d0763",
     "locked": true,
     "schema_version": 1,
     "solution": false
    }
   },
   "source": [
    "# Lab 2: Classification\n",
    "\n",
    "### Machine Learning 1, September/October 2020\n",
    "\n",
    "Notes on implementation:\n",
    "\n",
    "* You should write your code and answers in this IPython Notebook: http://ipython.org/notebook.html. If you have problems, please contact your teaching assistant.\n",
    "* Please write your answers right below the questions.\n",
    "* Among the first lines of your notebook should be \"%pylab inline\". This imports all required modules, and your plots will appear inline.\n",
    "* Use the provided test cells to check if your answers are correct\n",
    "* **Make sure your output and plots are correct before handing in your assignment with Kernel -> Restart & Run All**\n",
    "\n",
    "* **If possible, all your implementations should be vectorized and rely on loops as little as possible. Therefore for some questions, we give you a maximum number of loops that are necessary for an efficient implementation. This number refers to the loops in this particular function and does not count the ones in functions that are called from the function. You should not go above this number for the maximum number of points.**\n",
    "\n",
    "$\\newcommand{\\bx}{\\mathbf{x}}$\n",
    "$\\newcommand{\\bw}{\\mathbf{w}}$\n",
    "$\\newcommand{\\bt}{\\mathbf{t}}$\n",
    "$\\newcommand{\\by}{\\mathbf{y}}$\n",
    "$\\newcommand{\\bm}{\\mathbf{m}}$\n",
    "$\\newcommand{\\bb}{\\mathbf{b}}$\n",
    "$\\newcommand{\\bS}{\\mathbf{S}}$\n",
    "$\\newcommand{\\ba}{\\mathbf{a}}$\n",
    "$\\newcommand{\\bz}{\\mathbf{z}}$\n",
    "$\\newcommand{\\bv}{\\mathbf{v}}$\n",
    "$\\newcommand{\\bq}{\\mathbf{q}}$\n",
    "$\\newcommand{\\bp}{\\mathbf{p}}$\n",
    "$\\newcommand{\\bh}{\\mathbf{h}}$\n",
    "$\\newcommand{\\bI}{\\mathbf{I}}$\n",
    "$\\newcommand{\\bX}{\\mathbf{X}}$\n",
    "$\\newcommand{\\bT}{\\mathbf{T}}$\n",
    "$\\newcommand{\\bPhi}{\\mathbf{\\Phi}}$\n",
    "$\\newcommand{\\bW}{\\mathbf{W}}$\n",
    "$\\newcommand{\\bV}{\\mathbf{V}}$"
   ]
  },
  {
   "cell_type": "code",
   "execution_count": 2,
   "metadata": {
    "deletable": false,
    "editable": false,
    "nbgrader": {
     "checksum": "e3d9c5a44d13bdc7545f1a15d6dc9c8c",
     "grade": false,
     "grade_id": "cell-422dbc02437671ac",
     "locked": true,
     "schema_version": 1,
     "solution": false
    }
   },
   "outputs": [
    {
     "name": "stdout",
     "output_type": "stream",
     "text": [
      "Populating the interactive namespace from numpy and matplotlib\n"
     ]
    }
   ],
   "source": [
    "%pylab inline\n",
    "plt.rcParams[\"figure.figsize\"] = [9,5]\n",
    "\n",
    "import time\n",
    "start = time.time()"
   ]
  },
  {
   "cell_type": "code",
   "execution_count": 3,
   "metadata": {
    "deletable": false,
    "editable": false,
    "nbgrader": {
     "checksum": "902185d2dda7e356189a57a09a637182",
     "grade": false,
     "grade_id": "cell-7f215df0e22ae748",
     "locked": true,
     "schema_version": 1,
     "solution": false
    }
   },
   "outputs": [],
   "source": [
    "# This cell makes sure that you have all the necessary libraries installed\n",
    "\n",
    "import sys\n",
    "import platform\n",
    "from importlib.util import find_spec, module_from_spec\n",
    "\n",
    "def check_newer_version(version_inst, version_nec):\n",
    "    version_inst_split = version_inst.split('.')\n",
    "    version_nec_split = version_nec.split('.')\n",
    "    for i in range(min(len(version_inst_split), len(version_nec_split))):\n",
    "        if int(version_nec_split[i]) > int(version_inst_split[i]):\n",
    "            return False\n",
    "        elif int(version_nec_split[i]) < int(version_inst_split[i]):\n",
    "            return True\n",
    "    return True\n",
    "        \n",
    "    \n",
    "module_list = [('jupyter', '1.0.0'), \n",
    "               ('matplotlib', '2.0.2'), \n",
    "               ('numpy', '1.13.1'), \n",
    "               ('python', '3.6.2'), \n",
    "               ('sklearn', '0.19.0'), \n",
    "               ('scipy', '0.19.1'), \n",
    "               ('nb_conda', '2.2.1')]\n",
    "\n",
    "packages_correct = True\n",
    "packages_errors = []\n",
    "\n",
    "for module_name, version in module_list:\n",
    "    if module_name == 'scikit-learn':\n",
    "        module_name = 'sklearn'\n",
    "    if module_name == 'pyyaml':\n",
    "        module_name = 'yaml'\n",
    "    if 'python' in module_name:\n",
    "        python_version = platform.python_version()\n",
    "        if not check_newer_version(python_version, version):\n",
    "            packages_correct = False\n",
    "            error = f'Update {module_name} to version {version}. Current version is {python_version}.'\n",
    "            packages_errors.append(error) \n",
    "            print(error)\n",
    "    else:\n",
    "        spec = find_spec(module_name)\n",
    "        if spec is None:\n",
    "            packages_correct = False\n",
    "            error = f'Install {module_name} with version {version} or newer, it is required for this assignment!'\n",
    "            packages_errors.append(error) \n",
    "            print(error)\n",
    "        else:\n",
    "            x =__import__(module_name)\n",
    "            if hasattr(x, '__version__') and not check_newer_version(x.__version__, version):\n",
    "                packages_correct = False\n",
    "                error = f'Update {module_name} to version {version}. Current version is {x.__version__}.'\n",
    "                packages_errors.append(error) \n",
    "                print(error)\n",
    "\n",
    "try:\n",
    "    from google.colab import drive\n",
    "    packages_correct = False\n",
    "    error = \"\"\"Please, don't use google colab!\n",
    "It will make it much more complicated for us to check your homework as it merges all the cells into one.\"\"\"\n",
    "    packages_errors.append(error) \n",
    "    print(error)\n",
    "except:\n",
    "    pass\n",
    "\n",
    "packages_errors = '\\n'.join(packages_errors)"
   ]
  },
  {
   "cell_type": "markdown",
   "metadata": {
    "deletable": false,
    "editable": false,
    "nbgrader": {
     "checksum": "17f77a32492fcf6ac989eab8a50e4dab",
     "grade": false,
     "grade_id": "cell-821f67d8cd14e4f7",
     "locked": true,
     "schema_version": 1,
     "solution": false
    }
   },
   "source": [
    "# Part 1. Multiclass logistic regression\n",
    "\n",
    "Scenario: you have a friend with one big problem: she's completely blind. You decided to help her: she has a special smartphone for blind people, and you are going to develop a mobile phone app that can do _machine vision_ using the mobile camera: converting a picture (from the camera) to the meaning of the image. You decide to start with an app that can read handwritten digits, i.e. convert an image of handwritten digits to text (e.g. it would enable her to read precious handwritten phone numbers).\n",
    "\n",
    "A key building block for such an app would be a function `predict_digit(x)` that returns the digit class of an image patch $\\bx$. Since hand-coding this function is highly non-trivial, you decide to solve this problem using machine learning, such that the internal parameters of this function are automatically learned using machine learning techniques.\n",
    "\n",
    "The dataset you're going to use for this is the MNIST handwritten digits dataset (`http://yann.lecun.com/exdb/mnist/`). You can download the data with scikit learn, and load it as follows:"
   ]
  },
  {
   "cell_type": "code",
   "execution_count": 4,
   "metadata": {
    "deletable": false,
    "editable": false,
    "nbgrader": {
     "checksum": "d31db37aebf93c82a9408cfa97b788d3",
     "grade": false,
     "grade_id": "cell-bcdbc957165abae7",
     "locked": true,
     "schema_version": 1,
     "solution": false
    }
   },
   "outputs": [],
   "source": [
    "from sklearn.datasets import fetch_mldata\n",
    "import os\n",
    "# Fetch the data\n",
    "try:\n",
    "    mnist = fetch_mldata('MNIST original', data_home='.')\n",
    "except Exception:\n",
    "    raise FileNotFoundError('Please download mnist-original.mat from Canvas and put it in %s/mldata' % os.getcwd())\n",
    "data, target = mnist.data, mnist.target.astype('int')\n",
    "# Shuffle\n",
    "indices = np.arange(len(data))\n",
    "np.random.seed(123)\n",
    "np.random.shuffle(indices)\n",
    "data, target = data[indices].astype('float32'), target[indices]\n",
    "\n",
    "# Normalize the data between 0.0 and 1.0:\n",
    "data /= 255. \n",
    "\n",
    "# Split\n",
    "x_train, x_valid, x_test = data[:50000], data[50000:60000], data[60000: 70000]\n",
    "t_train, t_valid, t_test = target[:50000], target[50000:60000], target[60000: 70000]"
   ]
  },
  {
   "cell_type": "markdown",
   "metadata": {
    "deletable": false,
    "editable": false,
    "nbgrader": {
     "checksum": "5b20138af0810741223d2c2ddc82bf0f",
     "grade": false,
     "grade_id": "cell-b7b4a5a96dccf229",
     "locked": true,
     "schema_version": 1,
     "solution": false
    }
   },
   "source": [
    "MNIST consists of small 28 by 28 pixel images of written digits (0-9). We split the dataset into a training, validation and testing arrays. The variables `x_train`, `x_valid` and `x_test` are $N \\times M$ matrices, where $N$ is the number of datapoints in the respective set, and $M = 28^2 = 784$ is the dimensionality of the data. The second set of variables `t_train`, `t_valid` and `t_test` contain the corresponding $N$-dimensional vector of integers, containing the true class labels.\n",
    "\n",
    "Here's a visualisation of the first 8 digits of the trainingset:"
   ]
  },
  {
   "cell_type": "code",
   "execution_count": 5,
   "metadata": {
    "deletable": false,
    "editable": false,
    "nbgrader": {
     "checksum": "40e1628ec56b6d664edf9aaf496ea637",
     "grade": false,
     "grade_id": "cell-48a92c0a2a2bf4dd",
     "locked": true,
     "schema_version": 1,
     "solution": false
    }
   },
   "outputs": [
    {
     "data": {
      "image/png": "[encoded data removed]",
      "text/plain": [
       "<matplotlib.figure.Figure at 0x7f1ea473ef98>"
      ]
     },
     "metadata": {
      "needs_background": "light"
     },
     "output_type": "display_data"
    }
   ],
   "source": [
    "def plot_digits(data, num_cols, targets=None, shape=(28,28)):\n",
    "    num_digits = data.shape[0]\n",
    "    num_rows = int(num_digits/num_cols)\n",
    "    for i in range(num_digits):\n",
    "        plt.subplot(num_rows, num_cols, i+1)\n",
    "        plt.imshow(data[i].reshape(shape), interpolation='none', cmap='Greys')\n",
    "        if targets is not None:\n",
    "            plt.title(int(targets[i]))\n",
    "        plt.colorbar()\n",
    "        plt.axis('off')\n",
    "    plt.tight_layout()\n",
    "    plt.show()\n",
    "    \n",
    "plot_digits(x_train[0:40000:5000], num_cols=4, targets=t_train[0:40000:5000])"
   ]
  },
  {
   "cell_type": "markdown",
   "metadata": {
    "deletable": false,
    "editable": false,
    "nbgrader": {
     "checksum": "9c7e0668b7e246603c3c12d9183c9a83",
     "grade": false,
     "grade_id": "cell-3eb664a58e03bf42",
     "locked": true,
     "schema_version": 1,
     "solution": false
    }
   },
   "source": [
    "In _multiclass_ logistic regression, the conditional probability of class label $j$ given the image $\\bx$ for some datapoint is given by:\n",
    "\n",
    "$ \\log p(t = j \\;|\\; \\bx, \\bb, \\bW) = \\log q_j - \\log Z$\n",
    "\n",
    "where $\\log q_j = \\bw_j^T \\bx + b_j$ (the log of the unnormalized probability of the class $j$), and $Z = \\sum_k q_k$ is the normalizing factor. $\\bw_j$ is the $j$-th column of $\\bW$ (a matrix of size $784 \\times 10$) corresponding to the class label, $b_j$ is the $j$-th element of $\\bb$.\n",
    "\n",
    "Given an input image, the multiclass logistic regression model first computes the intermediate vector $\\log \\bq$ (of size $10 \\times 1$), using $\\log q_j = \\bw_j^T \\bx + b_j$, containing the unnormalized log-probabilities per class. \n",
    "\n",
    "The unnormalized probabilities are then normalized by $Z$ such that $\\sum_j p_j = \\sum_j \\exp(\\log p_j) = 1$. This is done by $\\log p_j = \\log q_j - \\log Z$ where $Z = \\sum_i \\exp(\\log q_i)$. This is known as the _softmax_ transformation, and is also used as a last layer of many classifcation neural network models, to ensure that the output of the network is a normalized distribution, regardless of the values of second-to-last layer ($\\log \\bq$)\n",
    "\n",
    "**Warning**: when computing $\\log Z$, you are likely to encounter numerical problems. Save yourself countless hours of debugging and learn the [log-sum-exp trick](https://www.xarg.org/2016/06/the-log-sum-exp-trick-in-machine-learning/ \"Title\").\n",
    "\n",
    "The network's output $\\log \\bp$ of size $10 \\times 1$ then contains the conditional log-probabilities $\\log p(t = j \\;|\\; \\bx, \\bb, \\bW)$ for each digit class $j$. In summary, the computations are done in this order:\n",
    "\n",
    "$\\bx \\rightarrow \\log \\bq \\rightarrow Z \\rightarrow \\log \\bp$\n",
    "\n",
    "Given some dataset with $N$ independent, identically distributed datapoints, the log-likelihood is given by:\n",
    "\n",
    "$ \\mathcal{L}(\\bb, \\bW) = \\sum_{n=1}^N \\mathcal{L}^{(n)}$\n",
    "\n",
    "where we use $\\mathcal{L}^{(n)}$ to denote the partial log-likelihood evaluated over a single datapoint. It is important to see that the log-probability of the class label $t^{(n)}$ given the image, is given by the $t^{(n)}$-th element of the network's output $\\log \\bp$, denoted by $\\log p_{t^{(n)}}$:\n",
    "\n",
    "$\\mathcal{L}^{(n)} = \\log p(t = t^{(n)} \\;|\\; \\bx = \\bx^{(n)}, \\bb, \\bW) = \\log p_{t^{(n)}} = \\log q_{t^{(n)}} - \\log Z^{(n)}$\n",
    "\n",
    "where $\\bx^{(n)}$ and $t^{(n)}$ are the input (image) and class label (integer) of the $n$-th datapoint, and $Z^{(n)}$ is the normalizing constant for the distribution over $t^{(n)}$.\n"
   ]
  },
  {
   "cell_type": "markdown",
   "metadata": {
    "deletable": false,
    "editable": false,
    "nbgrader": {
     "checksum": "88e0996cf7e7e29fd3886b9002845c98",
     "grade": false,
     "grade_id": "cell-17766ee789f11384",
     "locked": true,
     "schema_version": 1,
     "solution": false
    }
   },
   "source": [
    "## 1.1 Gradient-based stochastic optimization\n",
    "### 1.1.1 Derive gradient equations (20 points)\n",
    "\n",
    "Derive the equations for computing the (first) partial derivatives of the log-likelihood w.r.t. all the parameters, evaluated at a _single_ datapoint $n$.\n",
    "\n",
    "You should start deriving the equations for $\\frac{\\partial \\mathcal{L}^{(n)}}{\\partial \\log q_j}$ for each $j$. For clarity, we'll use the shorthand $\\delta^q_j = \\frac{\\partial \\mathcal{L}^{(n)}}{\\partial \\log q_j}$.\n",
    "\n",
    "For $j = t^{(n)}$:\n",
    "$$\n",
    "\\delta^q_j\n",
    "= \\frac{\\partial \\log q_{t^{(n)}}}{\\partial \\log q_j}\n",
    "-\n",
    "\\frac{\\partial \\log Z}{\\partial Z} \n",
    "\\frac{\\partial Z}{\\partial \\log q_j} \n",
    "= 1\n",
    "-\n",
    "\\frac{\\partial \\log Z}{\\partial Z} \n",
    "\\frac{\\partial Z}{\\partial \\log q_j} \n",
    "$$\n",
    "\n",
    "For $j \\neq t^{(n)}$:\n",
    "$$\n",
    "\\delta^q_j\n",
    "= \\frac{\\partial \\log q_{t^{(n)}}}{\\partial \\log q_j}\n",
    "-\n",
    "\\frac{\\partial \\log Z}{\\partial Z} \n",
    "\\frac{\\partial Z}{\\partial \\log q_j} \n",
    "=0 - \\frac{\\partial \\log Z}{\\partial Z} \n",
    "\\frac{\\partial Z}{\\partial \\log q_j}\n",
    "$$\n",
    "\n",
    "Complete the above derivations for $\\delta^q_j$ by furtherly developing $\\frac{\\partial \\log Z}{\\partial Z}$ and $\\frac{\\partial Z}{\\partial \\log q_j}$. Both are quite simple. For these it doesn't matter whether $j = t^{(n)}$ or not.\n",
    "\n"
   ]
  },
  {
   "cell_type": "markdown",
   "metadata": {
    "deletable": false,
    "nbgrader": {
     "checksum": "f394ea0423ed2b17c80bbe8f1193cc81",
     "grade": true,
     "grade_id": "cell-e40110444a1e1d3f",
     "locked": false,
     "points": 10,
     "schema_version": 1,
     "solution": true
    }
   },
   "source": [
    "$\\mathbf{OUR} \\mathbf{ANSWERS}$\n",
    "\n",
    "For $j = t^{(n)}$:\n",
    "\\begin{align}\n",
    "\\delta^q_j\n",
    "&= 1 - \\frac{1}{Z} \\exp(\\log q_j) = 1 - p_j = 1 - p_{t^{(n)}}\n",
    "\\end{align}\n",
    "For $j \\neq t^{(n)}$:\n",
    "\\begin{align}\n",
    "\\delta^q_j\n",
    "&= -\\frac{1}{Z} \\exp(\\log q_j) =  -p_j\n",
    "\\end{align}"
   ]
  },
  {
   "cell_type": "markdown",
   "metadata": {
    "deletable": false,
    "editable": false,
    "nbgrader": {
     "checksum": "d46c028e9830445397d7b2275815990d",
     "grade": false,
     "grade_id": "cell-c770cfe1389ca4ff",
     "locked": true,
     "schema_version": 1,
     "solution": false
    }
   },
   "source": [
    "Given your equations for computing the gradients $\\delta^q_j$ it should be quite straightforward to derive the equations for the gradients of the parameters of the model, $\\frac{\\partial \\mathcal{L}^{(n)}}{\\partial W_{ij}}$ and $\\frac{\\partial \\mathcal{L}^{(n)}}{\\partial b_j}$. The gradients for the biases $\\bb$ are given by:\n",
    "\n",
    "$\n",
    "\\frac{\\partial \\mathcal{L}^{(n)}}{\\partial b_j}\n",
    "= \\frac{\\partial \\mathcal{L}^{(n)}}{\\partial \\log q_j}\n",
    "\\frac{\\partial \\log q_j}{\\partial b_j}\n",
    "= \\delta^q_j\n",
    "\\cdot 1\n",
    "= \\delta^q_j\n",
    "$\n",
    "\n",
    "The equation above gives the derivative of $\\mathcal{L}^{(n)}$ w.r.t. a single element of $\\bb$, so the vector $\\nabla_\\bb \\mathcal{L}^{(n)}$ with all derivatives of $\\mathcal{L}^{(n)}$ w.r.t. the bias parameters $\\bb$ is: \n",
    "\n",
    "$\n",
    "\\nabla_\\bb \\mathcal{L}^{(n)} = \\mathbf{\\delta}^q\n",
    "$\n",
    "\n",
    "where $\\mathbf{\\delta}^q$ denotes the vector of size $10 \\times 1$ with elements $\\mathbf{\\delta}_j^q$.\n",
    "\n",
    "The (not fully developed) equation for computing the derivative of $\\mathcal{L}^{(n)}$ w.r.t. a single element $W_{ij}$ of $\\bW$ is:\n",
    "\n",
    "$\n",
    "\\frac{\\partial \\mathcal{L}^{(n)}}{\\partial W_{ij}} =\n",
    "\\frac{\\partial \\mathcal{L}^{(n)}}{\\partial \\log q_j}\n",
    "\\frac{\\partial \\log q_j}{\\partial W_{ij}}\n",
    "= \\mathbf{\\delta}_j^q\n",
    "\\frac{\\partial \\log q_j}{\\partial W_{ij}}\n",
    "$\n",
    "\n",
    "What is $\\frac{\\partial \\log q_j}{\\partial W_{ij}}$? Complete the equation above.\n",
    "\n",
    "If you want, you can give the resulting equation in vector format ($\\nabla_{\\bw_j} \\mathcal{L}^{(n)} = ...$), like we did for $\\nabla_\\bb \\mathcal{L}^{(n)}$."
   ]
  },
  {
   "cell_type": "markdown",
   "metadata": {
    "deletable": false,
    "nbgrader": {
     "checksum": "70fc98e5b227736e2bb92964a3c7174d",
     "grade": true,
     "grade_id": "cell-e40110444a1asdfasdfd3f",
     "locked": false,
     "points": 10,
     "schema_version": 1,
     "solution": true
    }
   },
   "source": [
    "$\\mathbf{OUR}$ $\\mathbf{ANSWERS}$\n",
    "\n",
    "$\n",
    "\\mathbf{\\delta}_j^q \\frac{\\partial \\log q_j}{\\partial W_{ij}} = \n",
    "\\mathbf{\\delta}_j^q \\frac{\\partial}{\\partial W_{ij}} (\\mathbf w_j^T \\mathbf x + b_j) = \n",
    "\\mathbf{\\delta}_j^q \\cdot x_i\n",
    "$\n",
    "\n",
    "In vector format:\n",
    "$\n",
    "\\nabla_{\\mathbf w_j} \\mathcal L^{(n)} = \\mathbf{\\delta}_j^q \\mathbf x^T\n",
    "$\n",
    "\n"
   ]
  },
  {
   "cell_type": "markdown",
   "metadata": {
    "deletable": false,
    "editable": false,
    "nbgrader": {
     "checksum": "7744e9051681182c7e1af0c515622fce",
     "grade": false,
     "grade_id": "cell-b0f28b0924b9983d",
     "locked": true,
     "schema_version": 1,
     "solution": false
    }
   },
   "source": [
    "### 1.1.2 Implement gradient computations (15 points)\n",
    "\n",
    "Implement the gradient calculations you derived in the previous question. Write a function `logreg_gradient(x, t, w, b)` that returns the gradients $\\nabla_{\\bw_j} \\mathcal{L}^{(n)}$ (for each $j$) and $\\nabla_{\\bb} \\mathcal{L}^{(n)}$, i.e. the first partial derivatives of the log-likelihood w.r.t. the parameters $\\bW$ and $\\bb$, evaluated at a single datapoint (`x`, `t`).\n",
    "The computation will contain roughly the following intermediate variables:\n",
    "\n",
    "$\n",
    "\\log \\bq \\rightarrow Z \\rightarrow \\log \\bp\\,,\\, \\mathbf{\\delta}^q\n",
    "$\n",
    "\n",
    "followed by computation of the gradient vectors $\\nabla_{\\bw_j} \\mathcal{L}^{(n)}$ (contained in a $784 \\times 10$ matrix) and $\\nabla_{\\bb} \\mathcal{L}^{(n)}$ (a $10 \\times 1$ vector).\n",
    "\n",
    "For maximum points, ensure the function is numerically stable.\n"
   ]
  },
  {
   "cell_type": "code",
   "execution_count": 6,
   "metadata": {
    "deletable": false,
    "nbgrader": {
     "checksum": "e0d41cbf33ddb93414c789220c024c45",
     "grade": false,
     "grade_id": "cell-6858f885be587480",
     "locked": false,
     "schema_version": 1,
     "solution": true
    }
   },
   "outputs": [],
   "source": [
    "# 1.1.2 Compute gradient of log p(t|x;w,b) wrt w and b\n",
    "def logreg_gradient(x, t, w, b):\n",
    "    \n",
    "    ## MY CODE ##\n",
    "    #print(x.shape) #, is (1, 784) or (784) depending on part of the exercise!\n",
    "    #print(t.shape) #, is (1,)\n",
    "    #print(w.shape) #, is (784, 10)\n",
    "    #print(b.shape) #, is (10,)\n",
    "    #print('\\n######\\n')\n",
    "    \n",
    "    # make sure x has consistent shape through part of the lab\n",
    "    if len(x.shape) == 1:\n",
    "        x = x[None,:]\n",
    "    \n",
    "    # compute log q\n",
    "    log_q = x @ w + b # checked with for-loop implementation; seems correct\n",
    "    \n",
    "    # compute log_Z; use the log-sum-exp trick\n",
    "    max_lq = np.max(log_q, axis=1)\n",
    "    log_Z = max_lq + np.log(np.sum(np.exp(log_q - max_lq))) # checked with naive version; seems correct\n",
    "\n",
    "    # compute log_p\n",
    "    logp = log_q - log_Z\n",
    " \n",
    "    # compute delta_q\n",
    "    delta_q = -np.exp(logp) # = np.exp(log_q)/np.exp(log_Z), yields same value\n",
    "    delta_q[:, np.array(t, dtype=np.int32)] += 1\n",
    "    \n",
    "    # compute gradients\n",
    "    dL_dw = x.T * delta_q[:,None,:] # checked with for-loop; seems correct\n",
    "\n",
    "    dL_dw = np.sum(dL_dw, axis=0) # if multiple samples, sum over them\n",
    "    \n",
    "    dL_db = delta_q\n",
    "\n",
    "    ## ##\n",
    "    \n",
    "    # here the statement contains logp[:,t] where logp is meant tas a matrix of shape 1x10\n",
    "    \n",
    "    return logp[:,t].squeeze(), dL_dw, dL_db.squeeze()\n"
   ]
  },
  {
   "cell_type": "code",
   "execution_count": 7,
   "metadata": {
    "deletable": false,
    "editable": false,
    "nbgrader": {
     "checksum": "a86683efa9cf9356b51f08cb6d2599b7",
     "grade": true,
     "grade_id": "cell-48057487182fe951",
     "locked": true,
     "points": 5,
     "schema_version": 1,
     "solution": false
    }
   },
   "outputs": [],
   "source": [
    "# Hidden tests for efficiency"
   ]
  },
  {
   "cell_type": "code",
   "execution_count": 8,
   "metadata": {
    "deletable": false,
    "editable": false,
    "nbgrader": {
     "checksum": "281f0c66a2c9bfdf53c1995a852eea1f",
     "grade": true,
     "grade_id": "cell-1c9659f607b151a2",
     "locked": true,
     "points": 4,
     "schema_version": 1,
     "solution": false
    }
   },
   "outputs": [
    {
     "name": "stdout",
     "output_type": "stream",
     "text": [
      "Test gradient on one point\n",
      "Log Likelihood:\t -2.2959726720744777\n",
      "\n",
      "Grad_W_ij\t (784, 10) matrix\n",
      "Grad_W_ij[0,152:158]=\t [-0.04518971 -0.06758809 -0.07819784 -0.09077237 -0.07584012 -0.06365855]\n",
      "\n",
      "Grad_B_i shape\t (10,) vector\n",
      "Grad_B_i=\t [-0.10020327 -0.09977827 -0.1003198   0.89933657 -0.10037941 -0.10072863\n",
      " -0.09982729 -0.09928672 -0.09949324 -0.09931994]\n",
      "i in {0,...,9}; j in M\n"
     ]
    }
   ],
   "source": [
    "np.random.seed(123)\n",
    "# scalar, 10 X 768  matrix, 10 X 1 vector\n",
    "w = np.random.normal(size=(28*28,10), scale=0.001)\n",
    "# w = np.zeros((784,10))\n",
    "b = np.zeros((10,))\n",
    "\n",
    "# test gradients, train on 1 sample\n",
    "logpt, grad_w, grad_b = logreg_gradient(x_train[0:1,:], t_train[0:1], w, b)\n",
    "\n",
    "print(\"Test gradient on one point\")\n",
    "print(\"Log Likelihood:\\t\", logpt)\n",
    "print(\"\\nGrad_W_ij\\t\",grad_w.shape,\"matrix\")\n",
    "print(\"Grad_W_ij[0,152:158]=\\t\", grad_w[152:158,0])\n",
    "print(\"\\nGrad_B_i shape\\t\",grad_b.shape,\"vector\")\n",
    "print(\"Grad_B_i=\\t\", grad_b.T)\n",
    "print(\"i in {0,...,9}; j in M\")\n",
    "\n",
    "assert logpt.shape == (), logpt.shape\n",
    "assert grad_w.shape == (784, 10), grad_w.shape\n",
    "assert grad_b.shape == (10,), grad_b.shape\n",
    "\n",
    "\n"
   ]
  },
  {
   "cell_type": "code",
   "execution_count": 9,
   "metadata": {
    "deletable": false,
    "editable": false,
    "nbgrader": {
     "checksum": "2ec5c9e0bdfc89e9d8e34971863dd612",
     "grade": true,
     "grade_id": "cell-fd59c3a03a87ab83",
     "locked": true,
     "points": 4,
     "schema_version": 1,
     "solution": false
    }
   },
   "outputs": [
    {
     "name": "stdout",
     "output_type": "stream",
     "text": [
      "Finite difference error grad_w: 6.36129468949e-07\n",
      "Finite difference error grad_b: 5.23511748692e-08\n"
     ]
    }
   ],
   "source": [
    "# It's always good to check your gradient implementations with finite difference checking:\n",
    "# Scipy provides the check_grad function, which requires flat input variables.\n",
    "# So we write two helper functions that provide the gradient and output with 'flat' weights:\n",
    "from scipy.optimize import check_grad\n",
    "\n",
    "np.random.seed(123)\n",
    "# scalar, 10 X 768  matrix, 10 X 1 vector\n",
    "w = np.random.normal(size=(28*28,10), scale=0.001)\n",
    "# w = np.zeros((784,10))\n",
    "b = np.zeros((10,))\n",
    "\n",
    "def func(w):\n",
    "    logpt, grad_w, grad_b = logreg_gradient(x_train[0:1,:], t_train[0:1], w.reshape(784,10), b)\n",
    "    return logpt\n",
    "def grad(w):\n",
    "    logpt, grad_w, grad_b = logreg_gradient(x_train[0:1,:], t_train[0:1], w.reshape(784,10), b)\n",
    "    return grad_w.flatten()\n",
    "finite_diff_error = check_grad(func, grad, w.flatten())\n",
    "print('Finite difference error grad_w:', finite_diff_error)\n",
    "assert finite_diff_error < 1e-3, 'Your gradient computation for w seems off'\n",
    "\n",
    "def func(b):\n",
    "    logpt, grad_w, grad_b = logreg_gradient(x_train[0:1,:], t_train[0:1], w, b)\n",
    "    return logpt\n",
    "def grad(b):\n",
    "    logpt, grad_w, grad_b = logreg_gradient(x_train[0:1,:], t_train[0:1], w, b)\n",
    "    return grad_b.flatten()\n",
    "finite_diff_error = check_grad(func, grad, b)\n",
    "print('Finite difference error grad_b:', finite_diff_error)\n",
    "assert finite_diff_error < 1e-3, 'Your gradient computation for b seems off'\n",
    "\n"
   ]
  },
  {
   "cell_type": "code",
   "execution_count": 10,
   "metadata": {
    "deletable": false,
    "editable": false,
    "nbgrader": {
     "checksum": "4bb956f91b61cedbca19fe84c4b7fd44",
     "grade": true,
     "grade_id": "cell-91b8c5eb86f6a0f3",
     "locked": true,
     "points": 2,
     "schema_version": 1,
     "solution": false
    }
   },
   "outputs": [],
   "source": [
    "# DO NOT REMOVE THIS CELL!\n",
    "# It contains hidden tests\n"
   ]
  },
  {
   "cell_type": "markdown",
   "metadata": {
    "deletable": false,
    "editable": false,
    "nbgrader": {
     "checksum": "56243f009b79a87d9970a86eba1966b7",
     "grade": false,
     "grade_id": "cell-bdce061b39aaacec",
     "locked": true,
     "schema_version": 1,
     "solution": false
    }
   },
   "source": [
    "\n",
    "### 1.1.3 Stochastic gradient descent (15 points)\n",
    "\n",
    "Write a function `sgd_iter(x_train, t_train, w, b)` that performs one iteration of stochastic gradient descent (SGD), and returns the new weights. It should go through the trainingset once in randomized order, call `logreg_gradient(x, t, w, b)` for each datapoint to get the gradients, and update the parameters **using a small learning rate of `1e-4`**. Note that in this case we're maximizing the likelihood function, so we should actually performing gradient ___ascent___... For more information about SGD, see Bishop 5.2.4 or an online source (i.e. https://en.wikipedia.org/wiki/Stochastic_gradient_descent)"
   ]
  },
  {
   "cell_type": "code",
   "execution_count": 11,
   "metadata": {
    "deletable": false,
    "nbgrader": {
     "checksum": "a1fd10093bd350a24e4a718bc0133738",
     "grade": true,
     "grade_id": "cell-86bf84658f1c5bc8",
     "locked": false,
     "points": 5,
     "schema_version": 1,
     "solution": true
    }
   },
   "outputs": [],
   "source": [
    "def sgd_iter(x_train, t_train, W, b):\n",
    "    ## MY CODE ##\n",
    "    idcs = np.random.permutation(x_train.shape[0])\n",
    "    lr = 1e-4\n",
    "    logp_train = 0\n",
    "    \n",
    "    for i, idx in enumerate(idcs):\n",
    "        \n",
    "        # get gradient\n",
    "        logp, dL_dw, dL_db = logreg_gradient(x_train[idx], t_train[idx], W, b)\n",
    "        try:\n",
    "            logp = float(logp) # is a numpy array for some reason\n",
    "        except:\n",
    "            print(logp)\n",
    "            raise ValueError\n",
    "        \n",
    "        # store logp\n",
    "        logp_train += logp\n",
    "        \n",
    "        # update parameters\n",
    "        W = W + lr * dL_dw\n",
    "        b = b + lr * dL_db\n",
    "        \n",
    "        \n",
    "        # some monitoring\n",
    "        if (i+1)%10000 == 0:\n",
    "            print('Processed {0} datapoints. Current logp = {1:1.3f}'.format(i+1, logp))\n",
    "    \n",
    "    # return average logp\n",
    "    logp_train /= x_train.shape[0]\n",
    "    \n",
    "    ## ##\n",
    "    \n",
    "    return logp_train, W, b"
   ]
  },
  {
   "cell_type": "code",
   "execution_count": 12,
   "metadata": {
    "deletable": false,
    "editable": false,
    "nbgrader": {
     "checksum": "f9dc9179ce6db8ed7eba9ea02ed82723",
     "grade": true,
     "grade_id": "cell-0929d502114babdb",
     "locked": true,
     "points": 5,
     "schema_version": 1,
     "solution": false
    }
   },
   "outputs": [],
   "source": [
    "# Hidden tests for efficiency"
   ]
  },
  {
   "cell_type": "code",
   "execution_count": 13,
   "metadata": {
    "deletable": false,
    "editable": false,
    "nbgrader": {
     "checksum": "0e5a417580d51fc1c3ef7519047eead4",
     "grade": true,
     "grade_id": "cell-2f7bbc264cc887a0",
     "locked": true,
     "points": 5,
     "schema_version": 1,
     "solution": false
    }
   },
   "outputs": [],
   "source": [
    "# Sanity check:\n",
    "np.random.seed(1243)\n",
    "w = np.zeros((28*28, 10))\n",
    "b = np.zeros(10)\n",
    "    \n",
    "logp_train, W, b = sgd_iter(x_train[:5], t_train[:5], w, b)\n",
    "\n",
    "\n"
   ]
  },
  {
   "cell_type": "markdown",
   "metadata": {
    "deletable": false,
    "editable": false,
    "nbgrader": {
     "checksum": "a60e2b48d4b187276ec9e8f8ef86a5f3",
     "grade": false,
     "grade_id": "cell-81634c804e1f93fc",
     "locked": true,
     "schema_version": 1,
     "solution": false
    }
   },
   "source": [
    "## 1.2. Train\n",
    "\n",
    "### 1.2.1 Train (12 points)\n",
    "Perform SGD on the training set. Plot (in one graph) the conditional log-probability of the training set and validation set after each iteration. (6 points)\n",
    "\n",
    "Instead of running SGD for a fixed number of steps, run it until convergence. Think of a reasonable criterion for determining convergence. As a reference: choose a criterion such that the algorithm terminates in less than 15 iterations over the training set. (2 points)\n",
    "\n",
    "Make sure your implementation (in particular, the output of the conditional log-probability of the training set and validation set) is independent of the size of the dataset. (2 points)"
   ]
  },
  {
   "cell_type": "code",
   "execution_count": 14,
   "metadata": {
    "deletable": false,
    "nbgrader": {
     "checksum": "221a9af93fcc6e5ab77fc26652c80a5f",
     "grade": true,
     "grade_id": "cell-20a347ba4db6e82c",
     "locked": false,
     "points": 10,
     "schema_version": 1,
     "solution": true
    }
   },
   "outputs": [
    {
     "name": "stdout",
     "output_type": "stream",
     "text": [
      "Processed 10000 datapoints. Current logp = -1.675\n",
      "Processed 20000 datapoints. Current logp = -1.354\n",
      "Processed 30000 datapoints. Current logp = -1.267\n",
      "Processed 40000 datapoints. Current logp = -0.699\n",
      "Processed 50000 datapoints. Current logp = -1.041\n",
      "Epoch 1: RMSE = 0.0283, logp_valid = -0.798\n",
      "Processed 10000 datapoints. Current logp = -2.838\n",
      "Processed 20000 datapoints. Current logp = -0.659\n",
      "Processed 30000 datapoints. Current logp = -0.208\n",
      "Processed 40000 datapoints. Current logp = -0.017\n",
      "Processed 50000 datapoints. Current logp = -0.346\n",
      "Epoch 2: RMSE = 0.0108, logp_valid = -0.612\n"
     ]
    },
    {
     "ename": "KeyboardInterrupt",
     "evalue": "",
     "output_type": "error",
     "traceback": [
      "\u001b[0;31m---------------------------------------------------------------------------\u001b[0m",
      "\u001b[0;31mKeyboardInterrupt\u001b[0m                         Traceback (most recent call last)",
      "\u001b[0;32m<ipython-input-14-bb2d9b240a1f>\u001b[0m in \u001b[0;36m<module>\u001b[0;34m\u001b[0m\n\u001b[1;32m     60\u001b[0m \u001b[0mw\u001b[0m \u001b[0;34m=\u001b[0m \u001b[0mnp\u001b[0m\u001b[0;34m.\u001b[0m\u001b[0mzeros\u001b[0m\u001b[0;34m(\u001b[0m\u001b[0;34m(\u001b[0m\u001b[0;36m28\u001b[0m\u001b[0;34m*\u001b[0m\u001b[0;36m28\u001b[0m\u001b[0;34m,\u001b[0m \u001b[0;36m10\u001b[0m\u001b[0;34m)\u001b[0m\u001b[0;34m)\u001b[0m\u001b[0;34m\u001b[0m\u001b[0m\n\u001b[1;32m     61\u001b[0m \u001b[0mb\u001b[0m \u001b[0;34m=\u001b[0m \u001b[0mnp\u001b[0m\u001b[0;34m.\u001b[0m\u001b[0mzeros\u001b[0m\u001b[0;34m(\u001b[0m\u001b[0;36m10\u001b[0m\u001b[0;34m)\u001b[0m\u001b[0;34m\u001b[0m\u001b[0m\n\u001b[0;32m---> 62\u001b[0;31m \u001b[0mw\u001b[0m\u001b[0;34m,\u001b[0m\u001b[0mb\u001b[0m \u001b[0;34m=\u001b[0m \u001b[0mtest_sgd\u001b[0m\u001b[0;34m(\u001b[0m\u001b[0mx_train\u001b[0m\u001b[0;34m,\u001b[0m \u001b[0mt_train\u001b[0m\u001b[0;34m,\u001b[0m \u001b[0mx_valid\u001b[0m\u001b[0;34m,\u001b[0m \u001b[0mt_valid\u001b[0m\u001b[0;34m,\u001b[0m \u001b[0mw\u001b[0m\u001b[0;34m,\u001b[0m \u001b[0mb\u001b[0m\u001b[0;34m)\u001b[0m\u001b[0;34m\u001b[0m\u001b[0m\n\u001b[0m",
      "\u001b[0;32m<ipython-input-14-bb2d9b240a1f>\u001b[0m in \u001b[0;36mtest_sgd\u001b[0;34m(x_train, t_train, x_valid, t_valid, w, b)\u001b[0m\n\u001b[1;32m     19\u001b[0m \u001b[0;34m\u001b[0m\u001b[0m\n\u001b[1;32m     20\u001b[0m         \u001b[0;31m# perform one sweep over the training set\u001b[0m\u001b[0;34m\u001b[0m\u001b[0;34m\u001b[0m\u001b[0m\n\u001b[0;32m---> 21\u001b[0;31m         \u001b[0mlogp_train\u001b[0m\u001b[0;34m,\u001b[0m \u001b[0mw\u001b[0m\u001b[0;34m,\u001b[0m \u001b[0mb\u001b[0m \u001b[0;34m=\u001b[0m \u001b[0msgd_iter\u001b[0m\u001b[0;34m(\u001b[0m\u001b[0mx_train\u001b[0m\u001b[0;34m,\u001b[0m \u001b[0mt_train\u001b[0m\u001b[0;34m,\u001b[0m \u001b[0mw\u001b[0m\u001b[0;34m,\u001b[0m \u001b[0mb\u001b[0m\u001b[0;34m)\u001b[0m\u001b[0;34m\u001b[0m\u001b[0m\n\u001b[0m\u001b[1;32m     22\u001b[0m         \u001b[0mlogp_trains\u001b[0m\u001b[0;34m.\u001b[0m\u001b[0mappend\u001b[0m\u001b[0;34m(\u001b[0m\u001b[0mfloat\u001b[0m\u001b[0;34m(\u001b[0m\u001b[0mlogp_train\u001b[0m\u001b[0;34m)\u001b[0m\u001b[0;34m)\u001b[0m\u001b[0;34m\u001b[0m\u001b[0m\n\u001b[1;32m     23\u001b[0m \u001b[0;34m\u001b[0m\u001b[0m\n",
      "\u001b[0;32m<ipython-input-11-2307442dc15d>\u001b[0m in \u001b[0;36msgd_iter\u001b[0;34m(x_train, t_train, W, b)\u001b[0m\n\u001b[1;32m      8\u001b[0m \u001b[0;34m\u001b[0m\u001b[0m\n\u001b[1;32m      9\u001b[0m         \u001b[0;31m# get gradient\u001b[0m\u001b[0;34m\u001b[0m\u001b[0;34m\u001b[0m\u001b[0m\n\u001b[0;32m---> 10\u001b[0;31m         \u001b[0mlogp\u001b[0m\u001b[0;34m,\u001b[0m \u001b[0mdL_dw\u001b[0m\u001b[0;34m,\u001b[0m \u001b[0mdL_db\u001b[0m \u001b[0;34m=\u001b[0m \u001b[0mlogreg_gradient\u001b[0m\u001b[0;34m(\u001b[0m\u001b[0mx_train\u001b[0m\u001b[0;34m[\u001b[0m\u001b[0midx\u001b[0m\u001b[0;34m]\u001b[0m\u001b[0;34m,\u001b[0m \u001b[0mt_train\u001b[0m\u001b[0;34m[\u001b[0m\u001b[0midx\u001b[0m\u001b[0;34m]\u001b[0m\u001b[0;34m,\u001b[0m \u001b[0mW\u001b[0m\u001b[0;34m,\u001b[0m \u001b[0mb\u001b[0m\u001b[0;34m)\u001b[0m\u001b[0;34m\u001b[0m\u001b[0m\n\u001b[0m\u001b[1;32m     11\u001b[0m         \u001b[0;32mtry\u001b[0m\u001b[0;34m:\u001b[0m\u001b[0;34m\u001b[0m\u001b[0m\n\u001b[1;32m     12\u001b[0m             \u001b[0mlogp\u001b[0m \u001b[0;34m=\u001b[0m \u001b[0mfloat\u001b[0m\u001b[0;34m(\u001b[0m\u001b[0mlogp\u001b[0m\u001b[0;34m)\u001b[0m \u001b[0;31m# is a numpy array for some reason\u001b[0m\u001b[0;34m\u001b[0m\u001b[0m\n",
      "\u001b[0;32m<ipython-input-6-68a89bb95ef7>\u001b[0m in \u001b[0;36mlogreg_gradient\u001b[0;34m(x, t, w, b)\u001b[0m\n\u001b[1;32m     28\u001b[0m \u001b[0;34m\u001b[0m\u001b[0m\n\u001b[1;32m     29\u001b[0m     \u001b[0;31m# compute gradients\u001b[0m\u001b[0;34m\u001b[0m\u001b[0;34m\u001b[0m\u001b[0m\n\u001b[0;32m---> 30\u001b[0;31m     \u001b[0mdL_dw\u001b[0m \u001b[0;34m=\u001b[0m \u001b[0mx\u001b[0m\u001b[0;34m.\u001b[0m\u001b[0mT\u001b[0m \u001b[0;34m*\u001b[0m \u001b[0mdelta_q\u001b[0m\u001b[0;34m[\u001b[0m\u001b[0;34m:\u001b[0m\u001b[0;34m,\u001b[0m\u001b[0;32mNone\u001b[0m\u001b[0;34m,\u001b[0m\u001b[0;34m:\u001b[0m\u001b[0;34m]\u001b[0m \u001b[0;31m# checked with for-loop; seems correct\u001b[0m\u001b[0;34m\u001b[0m\u001b[0m\n\u001b[0m\u001b[1;32m     31\u001b[0m \u001b[0;34m\u001b[0m\u001b[0m\n\u001b[1;32m     32\u001b[0m     \u001b[0mdL_dw\u001b[0m \u001b[0;34m=\u001b[0m \u001b[0mnp\u001b[0m\u001b[0;34m.\u001b[0m\u001b[0msum\u001b[0m\u001b[0;34m(\u001b[0m\u001b[0mdL_dw\u001b[0m\u001b[0;34m,\u001b[0m \u001b[0maxis\u001b[0m\u001b[0;34m=\u001b[0m\u001b[0;36m0\u001b[0m\u001b[0;34m)\u001b[0m \u001b[0;31m# if multiple samples, sum over them\u001b[0m\u001b[0;34m\u001b[0m\u001b[0m\n",
      "\u001b[0;31mKeyboardInterrupt\u001b[0m: "
     ]
    }
   ],
   "source": [
    "\n",
    "def test_sgd(x_train, t_train, x_valid, t_valid, w, b):\n",
    "    \n",
    "    ## MY CODE ##\n",
    "    eps = 0.0019 # stopping criterion\n",
    "    done = False\n",
    "    epoch = 0\n",
    "    \n",
    "    logp_trains = []\n",
    "    logp_valids = []\n",
    "    \n",
    "    while not done:\n",
    "        \n",
    "        # inc epoch ctr\n",
    "        epoch += 1\n",
    "        \n",
    "        # store for stopping criterion\n",
    "        old_w = w.copy()\n",
    "        old_b = b.copy()\n",
    "    \n",
    "        # perform one sweep over the training set\n",
    "        logp_train, w, b = sgd_iter(x_train, t_train, w, b)\n",
    "        logp_trains.append(float(logp_train))\n",
    "        \n",
    "        # evaluate on validation set\n",
    "        logp_valid = 0\n",
    "        for i in range(x_valid.shape[0]):\n",
    "            log_q = x_valid[i][None,:] @ w + b\n",
    "            \n",
    "            # compute log_Z; use the log-sum-exp trick\n",
    "            max_lq = np.max(log_q, axis=1)\n",
    "            log_Z = max_lq + np.log(np.sum(np.exp(log_q - max_lq)))\n",
    "            \n",
    "            # compute log_p\n",
    "            logp = (log_q - log_Z)[:,t_valid[i]].squeeze()\n",
    "            logp_valid += logp\n",
    "        \n",
    "        logp_valid /= x_valid.shape[0]\n",
    "        logp_valids.append(float(logp_valid))\n",
    "        \n",
    "        # if we stop updating significantly we will halt training.\n",
    "        rmse = np.sqrt(np.mean((old_w-w)**2) + np.mean((old_b-b))**2)\n",
    "        print('Epoch {0}: RMSE = {1:1.4f}, logp_valid = {2:1.3f}'.format(epoch, rmse, logp_valid))\n",
    "        if rmse < eps:\n",
    "            done = True\n",
    "        \n",
    "    ## ##\n",
    "\n",
    "    plt.figure()\n",
    "    plt.plot(np.arange(epoch), logp_trains, label='logp_train')\n",
    "    plt.plot(np.arange(epoch), logp_valids, label='logp_valid')\n",
    "    plt.legend()\n",
    "    plt.grid()\n",
    "    plt.ylabel('logp')\n",
    "    plt.xlabel('epoch')\n",
    "    plt.show()\n",
    "    \n",
    "    return w,b\n",
    "    \n",
    "np.random.seed(1243)\n",
    "w = np.zeros((28*28, 10))\n",
    "b = np.zeros(10)\n",
    "w,b = test_sgd(x_train, t_train, x_valid, t_valid, w, b)"
   ]
  },
  {
   "cell_type": "code",
   "execution_count": null,
   "metadata": {
    "deletable": false,
    "editable": false,
    "nbgrader": {
     "checksum": "0d46a6466493fa88818a210decebf40a",
     "grade": true,
     "grade_id": "cell-b290fe89d0aa4ffb",
     "locked": true,
     "points": 2,
     "schema_version": 1,
     "solution": false
    }
   },
   "outputs": [],
   "source": [
    "# Hidden tests for efficiency"
   ]
  },
  {
   "cell_type": "markdown",
   "metadata": {
    "deletable": false,
    "editable": false,
    "nbgrader": {
     "checksum": "a6d85bbd97cad35d524b65b23f64e75f",
     "grade": false,
     "grade_id": "cell-cf7f3da57d19493a",
     "locked": true,
     "schema_version": 1,
     "solution": false
    }
   },
   "source": [
    "### 1.2.2 Visualize weights (10 points)\n",
    "Visualize the resulting parameters $\\bW$ after a few iterations through the training set, by treating each column of $\\bW$ as an image. If you want, you can use or edit the `plot_digits(...)` above.\n"
   ]
  },
  {
   "cell_type": "code",
   "execution_count": null,
   "metadata": {
    "deletable": false,
    "nbgrader": {
     "checksum": "4e554436500eebe1527a31039570a264",
     "grade": true,
     "grade_id": "cell-b10656f35fac065e",
     "locked": false,
     "points": 5,
     "schema_version": 1,
     "solution": true
    }
   },
   "outputs": [],
   "source": [
    "## MY CODE ##\n",
    "\n",
    "plt.figure()\n",
    "\n",
    "for j in range(w.shape[1]):\n",
    "    \n",
    "    col = w[:,j]\n",
    "    plt.subplot(2,5,j+1)\n",
    "    plt.title('Column {}'.format(j))\n",
    "    plt.imshow(col.reshape(28,28))\n",
    "    plt.axis('off')\n",
    "\n",
    "## ##"
   ]
  },
  {
   "cell_type": "markdown",
   "metadata": {
    "deletable": false,
    "nbgrader": {
     "checksum": "de187afcf5ae1e34b80bc10610760e7a",
     "grade": true,
     "grade_id": "cell-eb131c8b7303da38",
     "locked": false,
     "points": 5,
     "schema_version": 1,
     "solution": true
    }
   },
   "source": [
    "**Describe in less than 100 words why these weights minimize the loss**\n",
    "YOUR ANSWER HERE"
   ]
  },
  {
   "cell_type": "markdown",
   "metadata": {
    "deletable": false,
    "editable": false,
    "nbgrader": {
     "checksum": "7a6a97ce145be9d58d5cf190e49da491",
     "grade": false,
     "grade_id": "cell-f36d974d9ef34c97",
     "locked": true,
     "schema_version": 1,
     "solution": false
    }
   },
   "source": [
    "### 1.2.3. Visualize the 8 hardest and 8 easiest digits (10 points)\n",
    "Visualize the 8 digits in the validation set with the highest probability of the true class label under the model.\n",
    "Also plot the 8 digits that were assigned the lowest probability.\n"
   ]
  },
  {
   "cell_type": "code",
   "execution_count": null,
   "metadata": {
    "deletable": false,
    "nbgrader": {
     "checksum": "4f212e606b9d9d7fd4ae403d643dacfd",
     "grade": true,
     "grade_id": "cell-3802d61680deeff5",
     "locked": false,
     "points": 5,
     "schema_version": 1,
     "solution": true
    }
   },
   "outputs": [],
   "source": [
    "## MY CODE ##\n",
    "log_p = np.zeros(x_valid.shape[0])\n",
    "for i in range(x_valid.shape[0]):\n",
    "    log_q = x_valid[i][None,:] @ w + b\n",
    "\n",
    "    # compute log_Z; use the log-sum-exp trick\n",
    "    max_lq = np.max(log_q, axis=1)\n",
    "    log_Z = max_lq + np.log(np.sum(np.exp(log_q - max_lq)))\n",
    "\n",
    "    # compute log_p\n",
    "    log_p[i] = (log_q - log_Z)[:,t_valid[i]].squeeze()\n",
    "\n",
    "# get easiest numbers\n",
    "idcs = np.argsort(log_p)\n",
    "easiest = x_valid[idcs][-8:]\n",
    "easiest_targets = t_valid[idcs][-8:]\n",
    "hardest = x_valid[idcs][:8]\n",
    "hardest_targets = t_valid[idcs][:8]\n",
    "\n",
    "\n",
    "# visualize easiest\n",
    "plot_digits(easiest, 4, targets=easiest_targets, shape=(28,28))\n",
    "\n",
    "# visualize hardest:\n",
    "plot_digits(hardest, 4, targets=hardest_targets, shape=(28,28))\n",
    "## ##"
   ]
  },
  {
   "cell_type": "markdown",
   "metadata": {
    "deletable": false,
    "nbgrader": {
     "checksum": "642d43cd6542e6cf49779799becbd435",
     "grade": true,
     "grade_id": "cell-6564a51fdda06d95",
     "locked": false,
     "points": 5,
     "schema_version": 1,
     "solution": true
    }
   },
   "source": [
    "Ask yourself if these results make sense. Explain in no more then two sentences what it means that a digit is hard to classify.\n",
    "\n",
    "Those results seem to make sense. If we look at the hard digits (lower two rows), there are some which would be even hard for a human to classify. What makes it hard is if a digit looks very similar to how a different digit would usually be written. For example the 4 at position (2,0) looks very much like a 0 and the 2 and position (3,2) could easily be a 7 as well."
   ]
  },
  {
   "cell_type": "markdown",
   "metadata": {
    "deletable": false,
    "editable": false,
    "nbgrader": {
     "checksum": "21418c6f8f5a8b5bd54c2b6fd655ec90",
     "grade": false,
     "grade_id": "cell-2c525344c99e5b26",
     "locked": true,
     "schema_version": 1,
     "solution": false
    }
   },
   "source": [
    "# Part 2. Multilayer perceptron\n",
    "\n",
    "\n",
    "You discover that the predictions by the logistic regression classifier are not good enough for your application: the model is too simple. You want to increase the accuracy of your predictions by using a better model. For this purpose, you're going to use a multilayer perceptron (MLP), a simple kind of neural network. The perceptron will have a single hidden layer $\\bh$ with $L$ elements. The parameters of the model are $\\bV$ (connections between input $\\bx$ and hidden layer $\\bh$), $\\ba$ (the biases/intercepts of $\\bh$), $\\bW$ (connections between $\\bh$ and $\\log q$) and $\\bb$ (the biases/intercepts of $\\log q$).\n",
    "\n",
    "The conditional probability of the class label $j$ is given by:\n",
    "\n",
    "$\\log p(t = j \\;|\\; \\bx, \\bb, \\bW) = \\log q_j - \\log Z$\n",
    "\n",
    "where $q_j$ are again the unnormalized probabilities per class, and $Z = \\sum_j q_j$ is again the probability normalizing factor. Each $q_j$ is computed using:\n",
    "\n",
    "$\\log q_j = \\bw_j^T \\bh + b_j$\n",
    "\n",
    "where $\\bh$ is a $L \\times 1$ vector with the hidden layer activations (of a hidden layer with size $L$), and $\\bw_j$ is the $j$-th column of $\\bW$ (a $L \\times 10$ matrix). Each element of the hidden layer is computed from the input vector $\\bx$ using:\n",
    "\n",
    "$h_j = \\sigma(\\bv_j^T \\bx + a_j)$\n",
    "\n",
    "where $\\bv_j$ is the $j$-th column of $\\bV$ (a $784 \\times L$ matrix), $a_j$ is the $j$-th element of $\\ba$, and $\\sigma(.)$ is the so-called sigmoid activation function, defined by:\n",
    "\n",
    "$\\sigma(x) = \\frac{1}{1 + \\exp(-x)}$\n",
    "\n",
    "Note that this model is almost equal to the multiclass logistic regression model, but with an extra 'hidden layer' $\\bh$. The activations of this hidden layer can be viewed as features computed from the input, where the feature transformation ($\\bV$ and $\\ba$) is learned.\n",
    "\n",
    "## 2.1 Derive gradient equations (20 points)\n",
    "\n",
    "State (shortly) why $\\nabla_{\\bb} \\mathcal{L}^{(n)}$ is equal to the earlier (multiclass logistic regression) case, and why $\\nabla_{\\bw_j} \\mathcal{L}^{(n)}$ is almost equal to the earlier case.\n",
    "\n",
    "Like in multiclass logistic regression, you should use intermediate variables $\\mathbf{\\delta}_j^q$. In addition, you should use intermediate variables $\\mathbf{\\delta}_j^h = \\frac{\\partial \\mathcal{L}^{(n)}}{\\partial h_j}$.\n",
    "\n",
    "Given an input image, roughly the following intermediate variables should be computed:\n",
    "\n",
    "$\n",
    "\\log \\bq \\rightarrow Z \\rightarrow \\log \\bp \\rightarrow \\mathbf{\\delta}^q \\rightarrow \\mathbf{\\delta}^h\n",
    "$\n",
    "\n",
    "where $\\mathbf{\\delta}_j^h = \\frac{\\partial \\mathcal{L}^{(n)}}{\\partial \\bh_j}$.\n",
    "\n",
    "Give the equations for computing $\\mathbf{\\delta}^h$, and for computing the derivatives of $\\mathcal{L}^{(n)}$ w.r.t. $\\bW$, $\\bb$, $\\bV$ and $\\ba$. \n",
    "\n",
    "You can use the convenient fact that $\\frac{\\partial}{\\partial x} \\sigma(x) = \\sigma(x) (1 - \\sigma(x))$."
   ]
  },
  {
   "cell_type": "markdown",
   "metadata": {
    "deletable": false,
    "nbgrader": {
     "checksum": "bb7ce29f01484f94a6357784ddaf6412",
     "grade": true,
     "grade_id": "cell-48f48bb8ec75cc3c",
     "locked": false,
     "points": 20,
     "schema_version": 1,
     "solution": true
    }
   },
   "source": [
    "OUR ANSWERS:\n",
    "\n",
    "They are equal (or almost equal) because we can treat $\\mathbf h$ as the input $\\mathbf x$ in our logistic regression case and then plug into the equations we derived in the first part.\n",
    "\n",
    "Thus we get $\\nabla_\\mathbf b \\mathcal L^{(n)} = \\delta^q$ and $\\nabla_{\\mathbf w_j}\\mathcal L^{(n)} = \\delta^q_j \\mathbf h^T$.\n",
    "\n",
    "From the second term we can directly infer that $\\frac{\\partial \\mathcal L^{(n)}}{\\partial \\mathbf W_{ij}} = \\delta^q_j \\mathbf h_i $\n",
    "\n",
    "Computing $\\delta^h$:\n",
    "\n",
    "$\n",
    "\\delta^h = \\frac{\\partial \\mathcal L^{(n)}}{\\partial \\log q_{t^{(n)}}}\\frac{\\partial \\log q_{t^{(n)}}}{\\partial \\mathbf h} = \\delta^q_{t^{(n)}} \\mathbf w^T_{t^{(n)}}\\\\\n",
    "\\Rightarrow \\delta^h_j = \\delta^q_{t^{(n)}} \\mathbf W_{jt^{(n)}}\n",
    "$\n",
    "\n",
    "\n",
    "Computing the derivative w.r.t. $\\mathbf a$:\n",
    "\n",
    "$\n",
    "\\frac{\\partial \\mathcal L^{(n)}}{\\partial a_j} = \\frac{\\partial \\mathcal L^{(n)}}{\\partial \\mathbf h_j} \\frac{\\partial \\mathbf h_j}{\\partial a_j} = \\delta^h_j \\mathbf h_j (1-\\mathbf h_j) \\cdot 1 = \\delta^h_j \\mathbf h_j (1-\\mathbf h_j)\n",
    "$\n",
    "\n",
    "Computing the derivative w.r.t. $\\mathbf V$:\n",
    "\n",
    "$\n",
    "\\frac{\\partial \\mathcal L^{(n)}}{\\partial \\mathbf v_j} = \\frac{\\partial \\mathcal L^{(n)}}{\\partial \\mathbf h_j} \\frac{\\partial \\mathbf h_j}{\\partial \\mathbf v_j} = \\delta^h_j \\mathbf h_j (1-\\mathbf h_j) \\mathbf x^T\n",
    "$\n",
    "\n",
    "From this we can derive that $\\frac{\\partial \\mathcal L^{(n)}}{\\partial\\mathbf V_{ij}} = \\delta^h_j \\mathbf h_j (1-\\mathbf h_j) \\mathbf x_i $\n",
    "\n"
   ]
  },
  {
   "cell_type": "markdown",
   "metadata": {
    "deletable": false,
    "editable": false,
    "nbgrader": {
     "checksum": "cfcfec5959134f7f3fca2ba585a94fba",
     "grade": false,
     "grade_id": "cell-0bff945081e993fc",
     "locked": true,
     "schema_version": 1,
     "solution": false
    }
   },
   "source": [
    "## 2.2 MAP optimization (10 points)\n",
    "\n",
    "You derived equations for finding the _maximum likelihood_ solution of the parameters. Explain, in a few sentences, how you could extend this approach so that it optimizes towards a _maximum a posteriori_ (MAP) solution of the parameters, with a Gaussian prior on the parameters. "
   ]
  },
  {
   "cell_type": "markdown",
   "metadata": {
    "deletable": false,
    "nbgrader": {
     "checksum": "49d6376929b1cdf60a9ca9282512f1b4",
     "grade": true,
     "grade_id": "cell-1daef2744c010b73",
     "locked": false,
     "points": 10,
     "schema_version": 1,
     "solution": true
    }
   },
   "source": [
    "Finding the MAP solution is equivalent to finding the solution that maximizes the sum of the log-likelihood and the log-prior, which can be seen by taking the logarithm of Bayes theorem and considering that the logarithm is monotonically increasing.\n",
    "\n",
    "Thus, for a given parameter $w$ we can compute the gradient of the log prior w.r.t. to $w$ and add it to the gradient of the log-likelihood w.r.t. to $w$. Using this sum of gradients in our update is then equivalent to updating towards a higher a posteriori probability.\n"
   ]
  },
  {
   "cell_type": "markdown",
   "metadata": {
    "deletable": false,
    "editable": false,
    "nbgrader": {
     "checksum": "c7e27334475d494b296af3afdf6bfcb4",
     "grade": false,
     "grade_id": "cell-2e56d8a567e2fb08",
     "locked": true,
     "schema_version": 1,
     "solution": false
    }
   },
   "source": [
    "## 2.3. Implement and train a MLP (15 points)\n",
    "\n",
    "Implement an MLP model with a single hidden layer of **20 neurons**. \n",
    "Train the model for **10 epochs**.\n",
    "Test your implementation for learning rates of 1e-2, 1e-3 and 1e-4 and plot (in one graph) the conditional log-probability of the trainingset and validation set. \n",
    "\n",
    "For the best model plot the weights of the first layer for in epoch 0,4 and 9. \n",
    "\n",
    "\n",
    "- 10 points: Working MLP that learns with plots\n",
    "- +5 points: Fast, numerically stable, vectorized implementation"
   ]
  },
  {
   "cell_type": "code",
   "execution_count": 101,
   "metadata": {
    "deletable": false,
    "nbgrader": {
     "checksum": "bca5a8a86e2d27a1c43d84fd9105421d",
     "grade": true,
     "grade_id": "cell-5d1924ace9e216e2",
     "locked": false,
     "points": 0,
     "schema_version": 1,
     "solution": true
    }
   },
   "outputs": [],
   "source": [
    "# Write all helper functions here\n",
    "class MLP():\n",
    "    \n",
    "    def __init__(self):\n",
    "        \n",
    "        self.V = np.zeros((784,20))\n",
    "        self.a = np.zeros(20)\n",
    "        self.W = np.zeros((20,10))\n",
    "        self.b = np.zeros(10)\n",
    "        \n",
    "        # TODO: Use Glorot uniform for weight initialization\n",
    "        \n",
    "    \n",
    "    def forward(self, x):\n",
    "        \n",
    "        a = x @ self.V + self.a\n",
    "        # use trick to avoid overflow\n",
    "        max_act = np.max(-a)\n",
    "        self.h = np.exp(-max_act) / (np.exp(-max_act) + np.exp(-a-max_act))\n",
    "        \n",
    "        log_q = self.h @ self.W + self.b\n",
    "        max_lq = np.max(log_q, axis=1)\n",
    "        log_Z = max_lq + np.log(np.sum(np.exp(log_q-max_lq), axis=1))\n",
    "        \n",
    "        # compute log_p\n",
    "        log_p = log_q - log_Z\n",
    "\n",
    "        return log_p\n",
    "        \n",
    "    \n",
    "    def backward(self, x, log_p, targets):\n",
    "        '''\n",
    "        Compute gradients from log_p and the correct target values\n",
    "        '''\n",
    "        \n",
    "        # compute delta_q\n",
    "        delta_q = -np.exp(log_p) \n",
    "        delta_q[:, np.array(targets, dtype=np.int32)] += 1\n",
    "        \n",
    "        # compute delta_h\n",
    "        delta_h = delta_q[:, np.array(targets, dtype=np.int32)] * self.W[:, np.array(targets, dtype=np.int32)]\n",
    "        if len(delta_h.shape) == 1:\n",
    "            delta_h = delta_h[None,:]\n",
    "        \n",
    "        # compute gradients\n",
    "        self.dL_db = delta_q\n",
    "        self.dL_dW = np.einsum('ij,ik -> ijk',self.h,delta_q) \n",
    "        self.dL_da = delta_h * self.h * (1 - self.h)\n",
    "        self.dL_dV = np.einsum('ij,ik -> ijk', x, (delta_h * self.h * (1-self.h)))\n",
    "        \n",
    "        # take batch means\n",
    "        self.dL_db = np.mean(self.dL_db, axis = 0)\n",
    "        self.dL_dW = np.mean(self.dL_dW, axis = 0)\n",
    "        self.dL_da = np.mean(self.dL_da, axis = 0)\n",
    "        self.dL_dV = np.mean(self.dL_dV, axis = 0)\n",
    "\n",
    "        \n",
    "        return self.dL_db, self.dL_dW, self.dL_da, self.dL_dV\n",
    "\n",
    "    def gradient_step(self, lr):\n",
    "        '''\n",
    "        Performs one step of stochastic gradient descent with learning rate lr\n",
    "        '''\n",
    "        \n",
    "        self.b += lr * self.dL_db\n",
    "        self.W += lr * self.dL_dW\n",
    "        self.a += lr * self.dL_da\n",
    "        self.V += lr * self.dL_dV\n",
    "        \n",
    "        \n",
    "\n",
    "def mlp_sgd_iter(model, x, t, lr=1e-3, update=True):\n",
    "    '''\n",
    "    Performs one sweep over a set, updating after each point IFF update is True.\n",
    "    '''\n",
    "    idcs = np.random.permutation(x.shape[0])\n",
    "    avg_log_p = 0\n",
    "    \n",
    "    for i, idx in enumerate(idcs):\n",
    "        \n",
    "        # forward pass\n",
    "        log_p = model.forward(x[idx][None,:])\n",
    "        \n",
    "        # backward pass\n",
    "        model.backward(x[idx][None,:], log_p, t[idx])\n",
    "        \n",
    "        if update:\n",
    "            # update parameters\n",
    "            model.gradient_step(lr)\n",
    "        \n",
    "        # store logp\n",
    "        avg_log_p += np.mean(log_p[:,t[idx]]) # should we choose to use more than one t, we need to take mean\n",
    "        \n",
    "    \n",
    "    # return average logp\n",
    "    avg_log_p /= x.shape[0]\n",
    "    \n",
    "    return avg_log_p\n",
    "    \n",
    "\n",
    "def train(model_class, num_epochs, lr, x_train, t_train, x_valid, t_valid):\n",
    "    '''\n",
    "    Trains a model of class model_class for num_epochs epochs with a learning rate of lr\n",
    "    '''\n",
    "    \n",
    "    # inst. model\n",
    "    model = model_class()\n",
    "    \n",
    "    # for plotting\n",
    "    logp_trains = []\n",
    "    logp_valids = []\n",
    "    \n",
    "    for epoch in range(num_epochs):\n",
    "        \n",
    "        # go over train set and update\n",
    "        logp_train = mlp_sgd_iter(model, x_train, t_train, lr)\n",
    "        logp_trains.append(logp_trains)\n",
    "        \n",
    "        # eval on validation set\n",
    "        logp_valid = mlp_sgd_iter(model, x_valid, t_valid, update=False)\n",
    "        logp_valids.append(logp_valid)\n",
    "        \n",
    "        print('Epoch {0}: train score: {1:1.4f}; valid score: {2:1.4f}'.format(epoch+1, logp_train, logp_valid))\n",
    "    \n",
    "    return model, logp_trains, logp_valids\n",
    "    "
   ]
  },
  {
   "cell_type": "code",
   "execution_count": 102,
   "metadata": {
    "deletable": false,
    "editable": false,
    "nbgrader": {
     "checksum": "c73a8145fa846d154551bd6d85908790",
     "grade": true,
     "grade_id": "cell-94b75f65d3038a67",
     "locked": true,
     "points": 5,
     "schema_version": 1,
     "solution": false
    }
   },
   "outputs": [],
   "source": [
    "# Hidden tests for efficiency"
   ]
  },
  {
   "cell_type": "code",
   "execution_count": null,
   "metadata": {
    "deletable": false,
    "nbgrader": {
     "checksum": "f3be36f9cf960203b49603b3719b8a4d",
     "grade": true,
     "grade_id": "cell-e9b2125a5ea8a22c",
     "locked": false,
     "points": 10,
     "schema_version": 1,
     "solution": true
    }
   },
   "outputs": [
    {
     "name": "stdout",
     "output_type": "stream",
     "text": [
      "-1.89357728662\n",
      "-1.80214987791\n",
      "<class 'numpy.float64'>\n",
      "<class 'numpy.float64'>\n",
      "Epoch 1: train score: -1.8936; valid score: -1.8021\n",
      "-1.80954149187\n",
      "-1.80183574867\n",
      "<class 'numpy.float64'>\n",
      "<class 'numpy.float64'>\n",
      "Epoch 2: train score: -1.8095; valid score: -1.8018\n",
      "-1.81181057451\n",
      "-1.79192109005\n",
      "<class 'numpy.float64'>\n",
      "<class 'numpy.float64'>\n",
      "Epoch 3: train score: -1.8118; valid score: -1.7919\n",
      "-1.81193551134\n",
      "-1.85912354556\n",
      "<class 'numpy.float64'>\n",
      "<class 'numpy.float64'>\n",
      "Epoch 4: train score: -1.8119; valid score: -1.8591\n",
      "-1.81183612105\n",
      "-1.81046603633\n",
      "<class 'numpy.float64'>\n",
      "<class 'numpy.float64'>\n",
      "Epoch 5: train score: -1.8118; valid score: -1.8105\n",
      "-1.81119102413\n",
      "-1.84554952146\n",
      "<class 'numpy.float64'>\n",
      "<class 'numpy.float64'>\n",
      "Epoch 6: train score: -1.8112; valid score: -1.8455\n",
      "-1.81209051157\n",
      "-1.80917786872\n",
      "<class 'numpy.float64'>\n",
      "<class 'numpy.float64'>\n",
      "Epoch 7: train score: -1.8121; valid score: -1.8092\n",
      "-1.81075980707\n",
      "-1.82597422032\n",
      "<class 'numpy.float64'>\n",
      "<class 'numpy.float64'>\n",
      "Epoch 8: train score: -1.8108; valid score: -1.8260\n",
      "-1.81073527536\n",
      "-1.79780987188\n",
      "<class 'numpy.float64'>\n",
      "<class 'numpy.float64'>\n",
      "Epoch 9: train score: -1.8107; valid score: -1.7978\n",
      "-1.81133713197\n",
      "-1.79363672042\n",
      "<class 'numpy.float64'>\n",
      "<class 'numpy.float64'>\n",
      "Epoch 10: train score: -1.8113; valid score: -1.7936\n",
      "-2.29571783932\n",
      "-2.2563467988\n",
      "<class 'numpy.float64'>\n",
      "<class 'numpy.float64'>\n",
      "Epoch 1: train score: -2.2957; valid score: -2.2563\n",
      "-2.1036783978\n",
      "-1.98284807233\n",
      "<class 'numpy.float64'>\n",
      "<class 'numpy.float64'>\n",
      "Epoch 2: train score: -2.1037; valid score: -1.9828\n",
      "-1.948517508\n",
      "-1.904733141\n",
      "<class 'numpy.float64'>\n",
      "<class 'numpy.float64'>\n",
      "Epoch 3: train score: -1.9485; valid score: -1.9047\n",
      "-1.89489282672\n",
      "-1.87009937592\n",
      "<class 'numpy.float64'>\n",
      "<class 'numpy.float64'>\n",
      "Epoch 4: train score: -1.8949; valid score: -1.8701\n",
      "-1.86779888256\n",
      "-1.85186965355\n",
      "<class 'numpy.float64'>\n",
      "<class 'numpy.float64'>\n",
      "Epoch 5: train score: -1.8678; valid score: -1.8519\n",
      "-1.85193377816\n",
      "-1.84403827166\n",
      "<class 'numpy.float64'>\n",
      "<class 'numpy.float64'>\n",
      "Epoch 6: train score: -1.8519; valid score: -1.8440\n",
      "-1.84211231715\n",
      "-1.8349870693\n",
      "<class 'numpy.float64'>\n",
      "<class 'numpy.float64'>\n",
      "Epoch 7: train score: -1.8421; valid score: -1.8350\n",
      "-1.83289087326\n",
      "-1.82835713349\n",
      "<class 'numpy.float64'>\n",
      "<class 'numpy.float64'>\n",
      "Epoch 8: train score: -1.8329; valid score: -1.8284\n",
      "-1.82529277959\n",
      "-1.8216096916\n",
      "<class 'numpy.float64'>\n",
      "<class 'numpy.float64'>\n",
      "Epoch 9: train score: -1.8253; valid score: -1.8216\n",
      "-1.81918341834\n",
      "-1.81843642959\n",
      "<class 'numpy.float64'>\n",
      "<class 'numpy.float64'>\n",
      "Epoch 10: train score: -1.8192; valid score: -1.8184\n",
      "-2.30158257103\n",
      "-2.30022190571\n",
      "<class 'numpy.float64'>\n",
      "<class 'numpy.float64'>\n",
      "Epoch 1: train score: -2.3016; valid score: -2.3002\n",
      "-2.30121952327\n",
      "-2.29985504438\n",
      "<class 'numpy.float64'>\n",
      "<class 'numpy.float64'>\n",
      "Epoch 2: train score: -2.3012; valid score: -2.2999\n",
      "-2.30097233128\n",
      "-2.29938477893\n",
      "<class 'numpy.float64'>\n",
      "<class 'numpy.float64'>\n",
      "Epoch 3: train score: -2.3010; valid score: -2.2994\n",
      "-2.30045625228\n",
      "-2.29859322183\n",
      "<class 'numpy.float64'>\n",
      "<class 'numpy.float64'>\n",
      "Epoch 4: train score: -2.3005; valid score: -2.2986\n",
      "-2.2995133196\n",
      "-2.2972667775\n",
      "<class 'numpy.float64'>\n",
      "<class 'numpy.float64'>\n",
      "Epoch 5: train score: -2.2995; valid score: -2.2973\n",
      "-2.29769671167\n",
      "-2.29479975169\n",
      "<class 'numpy.float64'>\n",
      "<class 'numpy.float64'>\n",
      "Epoch 6: train score: -2.2977; valid score: -2.2948\n",
      "-2.29430362161\n",
      "-2.28971556855\n",
      "<class 'numpy.float64'>\n",
      "<class 'numpy.float64'>\n",
      "Epoch 7: train score: -2.2943; valid score: -2.2897\n",
      "-2.28781320097\n",
      "-2.28045854465\n",
      "<class 'numpy.float64'>\n",
      "<class 'numpy.float64'>\n",
      "Epoch 8: train score: -2.2878; valid score: -2.2805\n",
      "-2.2759208408\n",
      "-2.26426542114\n",
      "<class 'numpy.float64'>\n",
      "<class 'numpy.float64'>\n",
      "Epoch 9: train score: -2.2759; valid score: -2.2643\n"
     ]
    }
   ],
   "source": [
    "# Write training code here:\n",
    "# Plot the conditional loglikelihoods for the train and validation dataset after every iteration.\n",
    "# Plot the weights of the first layer.\n",
    "\n",
    "# \n",
    "\n",
    "## MY CODE ##\n",
    "\n",
    "\n",
    "lr_list = [1e-2, 1e-3, 1e-4]\n",
    "num_epochs = 10\n",
    "\n",
    "models = []\n",
    "logp_train_list = []\n",
    "logp_valid_list = []\n",
    "\n",
    "for lr in lr_list:\n",
    "    print('\\n#########\\n#########\\n')\n",
    "    print('Now training with lr {}!'.format(lr))\n",
    "    \n",
    "    # train model for 10 epochs\n",
    "    model, logp_trains, logp_valids = train(MLP, num_epochs, lr, x_train, t_train, x_valid, t_valid)\n",
    "    \n",
    "    # save results\n",
    "    models.append(model)\n",
    "    logp_train_list.append(logp_trains)\n",
    "    logp_valid_list.append(logp_valids)\n",
    "    \n",
    "\n",
    "for i in range(3):\n",
    "    \n",
    "    plt.figure()\n",
    "    plt.title('Log-Likelihood - lr {}'.format(lr_list[i]))\n",
    "    plt.plot(logp_train_list[i], label='train')\n",
    "    plt.plot(logp_valid_list[i], label='valid')\n",
    "    plt.legend()\n",
    "    plt.show()\n",
    "    \n",
    "    plt.figure()\n",
    "    plt.title('Weights of first layer - lr {}'.format(lr_list[i]))\n",
    "    plt.imshow(models[i].V)\n",
    "    plt.show()\n",
    "    \n",
    "\n",
    "    \n",
    "##"
   ]
  },
  {
   "cell_type": "code",
   "execution_count": null,
   "metadata": {
    "deletable": false,
    "nbgrader": {
     "checksum": "9e9550447ee575c602a21489ce8534bb",
     "grade": true,
     "grade_id": "cell-b90dafbb9f41c1ed",
     "locked": false,
     "points": 0,
     "schema_version": 1,
     "solution": true
    }
   },
   "outputs": [],
   "source": [
    "# plot the train and validation logp for all three learning rates in one figure\n",
    "\n",
    "## MY CODE ##\n",
    "colors = ['b', 'r', 'g']\n",
    "\n",
    "plt.figure()\n",
    "for i in range(3):\n",
    "    plt.plot(lop_train_list[i], color=colors[i], label='lr_{}'.format(lr[i]))\n",
    "    plt.plot(lop_valid_list[i], color=colors[i], linestyle='--')\n",
    "\n",
    "plt.grid()\n",
    "plt.legend()\n",
    "plt.xlabel('Epoch')\n",
    "plt.ylabel('Log p')\n",
    "plt.show()\n",
    "\n",
    "## ##\n",
    "    "
   ]
  },
  {
   "cell_type": "markdown",
   "metadata": {
    "deletable": false,
    "editable": false,
    "nbgrader": {
     "checksum": "046552f90febc455e5c56d6bb68b8849",
     "grade": false,
     "grade_id": "cell-5b926040b792b57a",
     "locked": true,
     "schema_version": 1,
     "solution": false
    }
   },
   "source": [
    "### 2.3.1. Explain the learning curves (5 points)\n",
    "In less than 80 words, explain the observed behaviour for the different learning rates."
   ]
  },
  {
   "cell_type": "markdown",
   "metadata": {
    "deletable": false,
    "nbgrader": {
     "checksum": "ca72ec2f983a4d7ca6083fffbf5f6063",
     "grade": true,
     "grade_id": "cell-8858cbe0e4dd02c7",
     "locked": false,
     "points": 5,
     "schema_version": 1,
     "solution": true
    }
   },
   "source": [
    "YOUR ANSWER HERE"
   ]
  },
  {
   "cell_type": "markdown",
   "metadata": {
    "deletable": false,
    "editable": false,
    "nbgrader": {
     "checksum": "a03d026530585bc63f3cad6534b75f1b",
     "grade": false,
     "grade_id": "cell-6ae8cb5a4c246b97",
     "locked": true,
     "schema_version": 1,
     "solution": false
    }
   },
   "source": [
    "### 2.3.2. Explain the weights (5 points)\n",
    "In less than 80 words, explain how and why the weights of the hidden layer of the MLP differ from the logistic regression model, and relate this to the stronger performance of the MLP."
   ]
  },
  {
   "cell_type": "code",
   "execution_count": null,
   "metadata": {
    "deletable": false,
    "nbgrader": {
     "checksum": "8f24e3bf890299503af4561915a23915",
     "grade": true,
     "grade_id": "cell-69b3830258566c6d",
     "locked": false,
     "points": 0,
     "schema_version": 1,
     "solution": true
    }
   },
   "outputs": [],
   "source": [
    "# Plot the weights of the first layer for the best model \n",
    "\n",
    "# YOUR CODE HERE\n",
    "raise NotImplementedError()"
   ]
  },
  {
   "cell_type": "markdown",
   "metadata": {
    "deletable": false,
    "nbgrader": {
     "checksum": "7f6cbf48a398f8722f4d403b957b2075",
     "grade": true,
     "grade_id": "cell-c4fdc27b1aab6828",
     "locked": false,
     "points": 5,
     "schema_version": 1,
     "solution": true
    }
   },
   "source": [
    "YOUR ANSWER HERE"
   ]
  },
  {
   "cell_type": "markdown",
   "metadata": {
    "deletable": false,
    "editable": false,
    "nbgrader": {
     "checksum": "dd6a4522e0601e36fd37c9586a76236e",
     "grade": false,
     "grade_id": "cell-d10e996556dd40e5",
     "locked": true,
     "schema_version": 1,
     "solution": false
    }
   },
   "source": [
    "### 2.3.2. Different activation functions (10 points)\n",
    "In the task above we use a sigmoid as an activation function.\n",
    "Two other popular choices for activation functions are tanh and the rectified linear unit (ReLU). The ReLU is defined as:\n",
    "\n",
    "$$f(x) = \\max(0.,x)$$\n",
    "\n",
    "You already derived the derivative of the softmax function above. Here, write down the derivative for both the tanh and the ReLU function. Furthermore, for all three, plot the function and its derivative in a range $x\\in[-3,3]$"
   ]
  },
  {
   "cell_type": "markdown",
   "metadata": {
    "deletable": false,
    "nbgrader": {
     "checksum": "d67f15590158b453265dcd76b39e6631",
     "grade": true,
     "grade_id": "cell-e049422b1f9ce35e",
     "locked": false,
     "points": 0,
     "schema_version": 1,
     "solution": true
    }
   },
   "source": [
    "Write down the derivative of ReLU and tanh w.r.t. their respective argument:\n",
    "\n",
    "For the ReLU we get the following derivative:\n",
    "$$f'(x) = \\begin{cases} 0,\\hspace{2mm} &x\\leq 0\\\\ 1, &x>0 \\end{cases}$$\n",
    "\n",
    "For the tanh, we use that the derivative of sinh$(x)$ is cosh$(x)$ and vice versa, and that the tanh is given by $$\\tanh(x) \\frac{\\sinh(x)}{\\cosh(x)}$$\n",
    "\n",
    "With that we can derive\n",
    "\n",
    "$$\n",
    "\\tanh'(x) = \\frac{\\cosh(x)}{\\cosh(x)} - \\frac{\\sinh^2(x)}{\\cosh^2(x)} = \\frac{\\cosh^2(x) - \\sinh^2(x)}{\\cosh^2(x)} = \\frac{1}{\\cosh^2(x)} = \\frac{4}{(e^x + e^{-x})^2}\n",
    "$$\n",
    "\n",
    "Name two properties that you would like your activation function to have (one sentence each). Why are they important?\n",
    "\n",
    "YOUR ANSWER HERE\n"
   ]
  },
  {
   "cell_type": "code",
   "execution_count": null,
   "metadata": {
    "deletable": false,
    "nbgrader": {
     "checksum": "9121f55cf725651c75e033f7ca13ee92",
     "grade": true,
     "grade_id": "cell-ecd7fbb4f1ece014",
     "locked": false,
     "points": 5,
     "schema_version": 1,
     "solution": true
    }
   },
   "outputs": [],
   "source": [
    "# plot the function and the derivative for the activations sigmoid, tanh and ReLU.\n",
    "\n",
    "# YOUR CODE HERE\n",
    "raise NotImplementedError()"
   ]
  },
  {
   "cell_type": "markdown",
   "metadata": {
    "deletable": false,
    "nbgrader": {
     "checksum": "928719563cd5a64fe7fbbe05361a4f9e",
     "grade": true,
     "grade_id": "cell-b80eb6b6816d09f7",
     "locked": false,
     "points": 5,
     "schema_version": 1,
     "solution": true
    }
   },
   "source": [
    "Now that you plotted the activations and derivatives, which activation do you think is the best? Why would you choose this activation function? For your answer consider what you named as essential properties for an activation function above. Keep your answer short at no more then 3 sentences.\n",
    "\n",
    "YOUR ANSWER HERE"
   ]
  },
  {
   "cell_type": "code",
   "execution_count": null,
   "metadata": {
    "deletable": false,
    "editable": false,
    "nbgrader": {
     "checksum": "c45d88c24c3a46a7b1ce3d417bf56c96",
     "grade": false,
     "grade_id": "cell-995c4d580f198861",
     "locked": true,
     "schema_version": 1,
     "solution": false
    }
   },
   "outputs": [],
   "source": [
    "print('Notebook ran in {:2.3} minutes.'.format((time.time()-start)/60))"
   ]
  }
 ],
 "metadata": {
  "kernelspec": {
   "display_name": "Python 3",
   "language": "python",
   "name": "python3"
  },
  "language_info": {
   "codemirror_mode": {
    "name": "ipython",
    "version": 3
   },
   "file_extension": ".py",
   "mimetype": "text/x-python",
   "name": "python",
   "nbconvert_exporter": "python",
   "pygments_lexer": "ipython3",
   "version": "3.6.2"
  }
 },
 "nbformat": 4,
 "nbformat_minor": 1
}
